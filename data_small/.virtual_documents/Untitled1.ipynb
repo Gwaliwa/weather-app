import pandas as pd





df = pd.read_csv("stations.txt")


df



